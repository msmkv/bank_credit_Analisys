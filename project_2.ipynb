{
 "cells": [
  {
   "cell_type": "markdown",
   "id": "c81daeeb",
   "metadata": {
    "deletable": false,
    "id": "c81daeeb",
    "pycharm": {
     "name": "#%% md\n"
    }
   },
   "source": [
    "# Исследование надежности заемщиков\n"
   ]
  },
  {
   "cell_type": "markdown",
   "id": "744d7639",
   "metadata": {
    "deletable": false,
    "id": "744d7639",
    "pycharm": {
     "name": "#%% md\n"
    }
   },
   "source": [
    "## Информация о проекте\n",
    "\n",
    "Заказчик — кредитный отдел банка.\n",
    "Необходимо определить: влияет ли семейное положение и количество детей клиента на факт погашения кредита в срок.\n",
    "Анализируемые данные — статистика о платёжеспособности клиентов."
   ]
  },
  {
   "cell_type": "code",
   "execution_count": 1,
   "id": "7bcf75c9",
   "metadata": {
    "deletable": false,
    "id": "7bcf75c9",
    "pycharm": {
     "name": "#%%\n"
    }
   },
   "outputs": [
    {
     "data": {
      "text/plain": "    children  days_employed  dob_years            education  education_id  \\\n0          1   -8437.673028         42               высшее             0   \n1          1   -4024.803754         36              среднее             1   \n2          0   -5623.422610         33              Среднее             1   \n3          3   -4124.747207         32              среднее             1   \n4          0  340266.072047         53              среднее             1   \n5          0    -926.185831         27               высшее             0   \n6          0   -2879.202052         43               высшее             0   \n7          0    -152.779569         50              СРЕДНЕЕ             1   \n8          2   -6929.865299         35               ВЫСШЕЕ             0   \n9          0   -2188.756445         41              среднее             1   \n10         2   -4171.483647         36               высшее             0   \n11         0    -792.701887         40              среднее             1   \n12         0            NaN         65              среднее             1   \n13         0   -1846.641941         54  неоконченное высшее             2   \n14         0   -1844.956182         56               высшее             0   \n15         1    -972.364419         26              среднее             1   \n16         0   -1719.934226         35              среднее             1   \n17         0   -2369.999720         33               высшее             0   \n18         0  400281.136913         53              среднее             1   \n19         0  -10038.818549         48              СРЕДНЕЕ             1   \n\n       family_status  family_status_id gender income_type  debt  \\\n0    женат / замужем                 0      F   сотрудник     0   \n1    женат / замужем                 0      F   сотрудник     0   \n2    женат / замужем                 0      M   сотрудник     0   \n3    женат / замужем                 0      M   сотрудник     0   \n4   гражданский брак                 1      F   пенсионер     0   \n5   гражданский брак                 1      M   компаньон     0   \n6    женат / замужем                 0      F   компаньон     0   \n7    женат / замужем                 0      M   сотрудник     0   \n8   гражданский брак                 1      F   сотрудник     0   \n9    женат / замужем                 0      M   сотрудник     0   \n10   женат / замужем                 0      M   компаньон     0   \n11   женат / замужем                 0      F   сотрудник     0   \n12  гражданский брак                 1      M   пенсионер     0   \n13   женат / замужем                 0      F   сотрудник     0   \n14  гражданский брак                 1      F   компаньон     1   \n15   женат / замужем                 0      F   сотрудник     0   \n16   женат / замужем                 0      F   сотрудник     0   \n17  гражданский брак                 1      M   сотрудник     0   \n18    вдовец / вдова                 2      F   пенсионер     0   \n19         в разводе                 3      F   сотрудник     0   \n\n     total_income                                 purpose  \n0   253875.639453                           покупка жилья  \n1   112080.014102                 приобретение автомобиля  \n2   145885.952297                           покупка жилья  \n3   267628.550329              дополнительное образование  \n4   158616.077870                         сыграть свадьбу  \n5   255763.565419                           покупка жилья  \n6   240525.971920                       операции с жильем  \n7   135823.934197                             образование  \n8    95856.832424                   на проведение свадьбы  \n9   144425.938277                 покупка жилья для семьи  \n10  113943.491460                    покупка недвижимости  \n11   77069.234271       покупка коммерческой недвижимости  \n12            NaN                         сыграть свадьбу  \n13  130458.228857                 приобретение автомобиля  \n14  165127.911772              покупка жилой недвижимости  \n15  116820.904450  строительство собственной недвижимости  \n16  289202.704229                            недвижимость  \n17   90410.586745              строительство недвижимости  \n18   56823.777243      на покупку подержанного автомобиля  \n19  242831.107982            на покупку своего автомобиля  ",
      "text/html": "<div>\n<style scoped>\n    .dataframe tbody tr th:only-of-type {\n        vertical-align: middle;\n    }\n\n    .dataframe tbody tr th {\n        vertical-align: top;\n    }\n\n    .dataframe thead th {\n        text-align: right;\n    }\n</style>\n<table border=\"1\" class=\"dataframe\">\n  <thead>\n    <tr style=\"text-align: right;\">\n      <th></th>\n      <th>children</th>\n      <th>days_employed</th>\n      <th>dob_years</th>\n      <th>education</th>\n      <th>education_id</th>\n      <th>family_status</th>\n      <th>family_status_id</th>\n      <th>gender</th>\n      <th>income_type</th>\n      <th>debt</th>\n      <th>total_income</th>\n      <th>purpose</th>\n    </tr>\n  </thead>\n  <tbody>\n    <tr>\n      <th>0</th>\n      <td>1</td>\n      <td>-8437.673028</td>\n      <td>42</td>\n      <td>высшее</td>\n      <td>0</td>\n      <td>женат / замужем</td>\n      <td>0</td>\n      <td>F</td>\n      <td>сотрудник</td>\n      <td>0</td>\n      <td>253875.639453</td>\n      <td>покупка жилья</td>\n    </tr>\n    <tr>\n      <th>1</th>\n      <td>1</td>\n      <td>-4024.803754</td>\n      <td>36</td>\n      <td>среднее</td>\n      <td>1</td>\n      <td>женат / замужем</td>\n      <td>0</td>\n      <td>F</td>\n      <td>сотрудник</td>\n      <td>0</td>\n      <td>112080.014102</td>\n      <td>приобретение автомобиля</td>\n    </tr>\n    <tr>\n      <th>2</th>\n      <td>0</td>\n      <td>-5623.422610</td>\n      <td>33</td>\n      <td>Среднее</td>\n      <td>1</td>\n      <td>женат / замужем</td>\n      <td>0</td>\n      <td>M</td>\n      <td>сотрудник</td>\n      <td>0</td>\n      <td>145885.952297</td>\n      <td>покупка жилья</td>\n    </tr>\n    <tr>\n      <th>3</th>\n      <td>3</td>\n      <td>-4124.747207</td>\n      <td>32</td>\n      <td>среднее</td>\n      <td>1</td>\n      <td>женат / замужем</td>\n      <td>0</td>\n      <td>M</td>\n      <td>сотрудник</td>\n      <td>0</td>\n      <td>267628.550329</td>\n      <td>дополнительное образование</td>\n    </tr>\n    <tr>\n      <th>4</th>\n      <td>0</td>\n      <td>340266.072047</td>\n      <td>53</td>\n      <td>среднее</td>\n      <td>1</td>\n      <td>гражданский брак</td>\n      <td>1</td>\n      <td>F</td>\n      <td>пенсионер</td>\n      <td>0</td>\n      <td>158616.077870</td>\n      <td>сыграть свадьбу</td>\n    </tr>\n    <tr>\n      <th>5</th>\n      <td>0</td>\n      <td>-926.185831</td>\n      <td>27</td>\n      <td>высшее</td>\n      <td>0</td>\n      <td>гражданский брак</td>\n      <td>1</td>\n      <td>M</td>\n      <td>компаньон</td>\n      <td>0</td>\n      <td>255763.565419</td>\n      <td>покупка жилья</td>\n    </tr>\n    <tr>\n      <th>6</th>\n      <td>0</td>\n      <td>-2879.202052</td>\n      <td>43</td>\n      <td>высшее</td>\n      <td>0</td>\n      <td>женат / замужем</td>\n      <td>0</td>\n      <td>F</td>\n      <td>компаньон</td>\n      <td>0</td>\n      <td>240525.971920</td>\n      <td>операции с жильем</td>\n    </tr>\n    <tr>\n      <th>7</th>\n      <td>0</td>\n      <td>-152.779569</td>\n      <td>50</td>\n      <td>СРЕДНЕЕ</td>\n      <td>1</td>\n      <td>женат / замужем</td>\n      <td>0</td>\n      <td>M</td>\n      <td>сотрудник</td>\n      <td>0</td>\n      <td>135823.934197</td>\n      <td>образование</td>\n    </tr>\n    <tr>\n      <th>8</th>\n      <td>2</td>\n      <td>-6929.865299</td>\n      <td>35</td>\n      <td>ВЫСШЕЕ</td>\n      <td>0</td>\n      <td>гражданский брак</td>\n      <td>1</td>\n      <td>F</td>\n      <td>сотрудник</td>\n      <td>0</td>\n      <td>95856.832424</td>\n      <td>на проведение свадьбы</td>\n    </tr>\n    <tr>\n      <th>9</th>\n      <td>0</td>\n      <td>-2188.756445</td>\n      <td>41</td>\n      <td>среднее</td>\n      <td>1</td>\n      <td>женат / замужем</td>\n      <td>0</td>\n      <td>M</td>\n      <td>сотрудник</td>\n      <td>0</td>\n      <td>144425.938277</td>\n      <td>покупка жилья для семьи</td>\n    </tr>\n    <tr>\n      <th>10</th>\n      <td>2</td>\n      <td>-4171.483647</td>\n      <td>36</td>\n      <td>высшее</td>\n      <td>0</td>\n      <td>женат / замужем</td>\n      <td>0</td>\n      <td>M</td>\n      <td>компаньон</td>\n      <td>0</td>\n      <td>113943.491460</td>\n      <td>покупка недвижимости</td>\n    </tr>\n    <tr>\n      <th>11</th>\n      <td>0</td>\n      <td>-792.701887</td>\n      <td>40</td>\n      <td>среднее</td>\n      <td>1</td>\n      <td>женат / замужем</td>\n      <td>0</td>\n      <td>F</td>\n      <td>сотрудник</td>\n      <td>0</td>\n      <td>77069.234271</td>\n      <td>покупка коммерческой недвижимости</td>\n    </tr>\n    <tr>\n      <th>12</th>\n      <td>0</td>\n      <td>NaN</td>\n      <td>65</td>\n      <td>среднее</td>\n      <td>1</td>\n      <td>гражданский брак</td>\n      <td>1</td>\n      <td>M</td>\n      <td>пенсионер</td>\n      <td>0</td>\n      <td>NaN</td>\n      <td>сыграть свадьбу</td>\n    </tr>\n    <tr>\n      <th>13</th>\n      <td>0</td>\n      <td>-1846.641941</td>\n      <td>54</td>\n      <td>неоконченное высшее</td>\n      <td>2</td>\n      <td>женат / замужем</td>\n      <td>0</td>\n      <td>F</td>\n      <td>сотрудник</td>\n      <td>0</td>\n      <td>130458.228857</td>\n      <td>приобретение автомобиля</td>\n    </tr>\n    <tr>\n      <th>14</th>\n      <td>0</td>\n      <td>-1844.956182</td>\n      <td>56</td>\n      <td>высшее</td>\n      <td>0</td>\n      <td>гражданский брак</td>\n      <td>1</td>\n      <td>F</td>\n      <td>компаньон</td>\n      <td>1</td>\n      <td>165127.911772</td>\n      <td>покупка жилой недвижимости</td>\n    </tr>\n    <tr>\n      <th>15</th>\n      <td>1</td>\n      <td>-972.364419</td>\n      <td>26</td>\n      <td>среднее</td>\n      <td>1</td>\n      <td>женат / замужем</td>\n      <td>0</td>\n      <td>F</td>\n      <td>сотрудник</td>\n      <td>0</td>\n      <td>116820.904450</td>\n      <td>строительство собственной недвижимости</td>\n    </tr>\n    <tr>\n      <th>16</th>\n      <td>0</td>\n      <td>-1719.934226</td>\n      <td>35</td>\n      <td>среднее</td>\n      <td>1</td>\n      <td>женат / замужем</td>\n      <td>0</td>\n      <td>F</td>\n      <td>сотрудник</td>\n      <td>0</td>\n      <td>289202.704229</td>\n      <td>недвижимость</td>\n    </tr>\n    <tr>\n      <th>17</th>\n      <td>0</td>\n      <td>-2369.999720</td>\n      <td>33</td>\n      <td>высшее</td>\n      <td>0</td>\n      <td>гражданский брак</td>\n      <td>1</td>\n      <td>M</td>\n      <td>сотрудник</td>\n      <td>0</td>\n      <td>90410.586745</td>\n      <td>строительство недвижимости</td>\n    </tr>\n    <tr>\n      <th>18</th>\n      <td>0</td>\n      <td>400281.136913</td>\n      <td>53</td>\n      <td>среднее</td>\n      <td>1</td>\n      <td>вдовец / вдова</td>\n      <td>2</td>\n      <td>F</td>\n      <td>пенсионер</td>\n      <td>0</td>\n      <td>56823.777243</td>\n      <td>на покупку подержанного автомобиля</td>\n    </tr>\n    <tr>\n      <th>19</th>\n      <td>0</td>\n      <td>-10038.818549</td>\n      <td>48</td>\n      <td>СРЕДНЕЕ</td>\n      <td>1</td>\n      <td>в разводе</td>\n      <td>3</td>\n      <td>F</td>\n      <td>сотрудник</td>\n      <td>0</td>\n      <td>242831.107982</td>\n      <td>на покупку своего автомобиля</td>\n    </tr>\n  </tbody>\n</table>\n</div>"
     },
     "execution_count": 1,
     "metadata": {},
     "output_type": "execute_result"
    }
   ],
   "source": [
    "import pandas as pd\n",
    "\n",
    "try:\n",
    "    data = pd.read_csv('data.csv')\n",
    "except:\n",
    "    data = pd.read_csv('https://********/data.csv')\n",
    "\n",
    "data.head(20)"
   ]
  },
  {
   "cell_type": "code",
   "execution_count": 2,
   "id": "2b757bca",
   "metadata": {
    "deletable": false,
    "id": "2b757bca",
    "outputId": "15376089-8dad-46c9-b520-c05248d43158",
    "pycharm": {
     "name": "#%%\n"
    }
   },
   "outputs": [
    {
     "name": "stdout",
     "output_type": "stream",
     "text": [
      "<class 'pandas.core.frame.DataFrame'>\n",
      "RangeIndex: 21525 entries, 0 to 21524\n",
      "Data columns (total 12 columns):\n",
      " #   Column            Non-Null Count  Dtype  \n",
      "---  ------            --------------  -----  \n",
      " 0   children          21525 non-null  int64  \n",
      " 1   days_employed     19351 non-null  float64\n",
      " 2   dob_years         21525 non-null  int64  \n",
      " 3   education         21525 non-null  object \n",
      " 4   education_id      21525 non-null  int64  \n",
      " 5   family_status     21525 non-null  object \n",
      " 6   family_status_id  21525 non-null  int64  \n",
      " 7   gender            21525 non-null  object \n",
      " 8   income_type       21525 non-null  object \n",
      " 9   debt              21525 non-null  int64  \n",
      " 10  total_income      19351 non-null  float64\n",
      " 11  purpose           21525 non-null  object \n",
      "dtypes: float64(2), int64(5), object(5)\n",
      "memory usage: 2.0+ MB\n"
     ]
    }
   ],
   "source": [
    "data.info()"
   ]
  },
  {
   "cell_type": "markdown",
   "id": "333ec665",
   "metadata": {
    "deletable": false,
    "id": "333ec665",
    "pycharm": {
     "name": "#%% md\n"
    }
   },
   "source": [
    "## Предобработка данных"
   ]
  },
  {
   "cell_type": "markdown",
   "id": "02d92d53",
   "metadata": {
    "deletable": false,
    "id": "02d92d53",
    "pycharm": {
     "name": "#%% md\n"
    }
   },
   "source": [
    "### Удаление пропусков"
   ]
  },
  {
   "cell_type": "code",
   "execution_count": 3,
   "id": "7f9b2309",
   "metadata": {
    "deletable": false,
    "id": "7f9b2309",
    "outputId": "81f4d817-781c-465c-ed15-91ce4446810d",
    "pycharm": {
     "name": "#%%\n"
    }
   },
   "outputs": [
    {
     "data": {
      "text/plain": "children               0\ndays_employed       2174\ndob_years              0\neducation              0\neducation_id           0\nfamily_status          0\nfamily_status_id       0\ngender                 0\nincome_type            0\ndebt                   0\ntotal_income        2174\npurpose                0\ndtype: int64"
     },
     "execution_count": 3,
     "metadata": {},
     "output_type": "execute_result"
    }
   ],
   "source": [
    "data.isna().sum()"
   ]
  },
  {
   "cell_type": "markdown",
   "id": "db86e27b",
   "metadata": {
    "deletable": false,
    "id": "db86e27b",
    "pycharm": {
     "name": "#%% md\n"
    }
   },
   "source": [
    "В двух столбцах есть пропущенные значения. Один из них — `days_employed`. Другой столбец с пропущенными значениями — `total_income` — хранит данные о доходах. На сумму дохода сильнее всего влияет тип занятости, поэтому заполним пропуски в этом столбце медианным значением по каждому типу из столбца `income_type`."
   ]
  },
  {
   "cell_type": "code",
   "execution_count": 4,
   "id": "42006a93",
   "metadata": {
    "deletable": false,
    "id": "42006a93",
    "pycharm": {
     "name": "#%%\n"
    }
   },
   "outputs": [],
   "source": [
    "for t in data['income_type'].unique():\n",
    "    data.loc[(data['income_type'] == t) & (data['total_income'].isna()), 'total_income'] = \\\n",
    "    data.loc[(data['income_type'] == t), 'total_income'].median()"
   ]
  },
  {
   "cell_type": "markdown",
   "id": "89da5ece",
   "metadata": {
    "deletable": false,
    "id": "89da5ece",
    "pycharm": {
     "name": "#%% md\n"
    }
   },
   "source": [
    "### Обработка аномальных значений"
   ]
  },
  {
   "cell_type": "markdown",
   "id": "57964554",
   "metadata": {
    "deletable": false,
    "id": "57964554",
    "pycharm": {
     "name": "#%% md\n"
    }
   },
   "source": [
    "Артефактом будет отрицательное количество дней трудового стажа в столбце `days_employed`."
   ]
  },
  {
   "cell_type": "code",
   "execution_count": 5,
   "id": "f6f055bf",
   "metadata": {
    "deletable": false,
    "id": "f6f055bf",
    "pycharm": {
     "name": "#%%\n"
    }
   },
   "outputs": [],
   "source": [
    "data['days_employed'] = data['days_employed'].abs()"
   ]
  },
  {
   "cell_type": "markdown",
   "id": "6107dd2f",
   "metadata": {
    "deletable": false,
    "id": "6107dd2f",
    "pycharm": {
     "name": "#%% md\n"
    }
   },
   "source": [
    "Для каждого типа занятости выведем медианное значение трудового стажа `days_employed` в днях."
   ]
  },
  {
   "cell_type": "code",
   "execution_count": 6,
   "id": "85a5faf6",
   "metadata": {
    "deletable": false,
    "id": "85a5faf6",
    "outputId": "801ef80e-522b-4668-f34e-565af7432bcf",
    "pycharm": {
     "name": "#%%\n"
    }
   },
   "outputs": [
    {
     "data": {
      "text/plain": "income_type\nбезработный        366413.652744\nв декрете            3296.759962\nгосслужащий          2689.368353\nкомпаньон            1547.382223\nпенсионер          365213.306266\nпредприниматель       520.848083\nсотрудник            1574.202821\nстудент               578.751554\nName: days_employed, dtype: float64"
     },
     "execution_count": 6,
     "metadata": {},
     "output_type": "execute_result"
    }
   ],
   "source": [
    "data.groupby('income_type')['days_employed'].agg('median')"
   ]
  },
  {
   "cell_type": "markdown",
   "id": "38d1a030",
   "metadata": {
    "deletable": false,
    "id": "38d1a030",
    "pycharm": {
     "name": "#%% md\n"
    }
   },
   "source": [
    "У двух типов (безработные и пенсионеры) получились аномально большие значения. Исправить такие значения сложно, поэтому оставьте их как есть, так как этот столбец не понадобится для исследования."
   ]
  },
  {
   "cell_type": "code",
   "execution_count": 7,
   "id": "ef5056eb",
   "metadata": {
    "deletable": false,
    "id": "ef5056eb",
    "outputId": "6975b15c-7f95-4697-d16d-a0c79b657b03",
    "pycharm": {
     "name": "#%%\n"
    }
   },
   "outputs": [
    {
     "data": {
      "text/plain": "array([ 1,  0,  3,  2, -1,  4, 20,  5])"
     },
     "execution_count": 7,
     "metadata": {},
     "output_type": "execute_result"
    }
   ],
   "source": [
    "data['children'].unique()"
   ]
  },
  {
   "cell_type": "code",
   "execution_count": 8,
   "id": "3ff9801d",
   "metadata": {
    "deletable": false,
    "id": "3ff9801d",
    "pycharm": {
     "name": "#%%\n"
    }
   },
   "outputs": [
    {
     "data": {
      "text/plain": "array([1, 0, 3, 2, 4, 5])"
     },
     "execution_count": 8,
     "metadata": {},
     "output_type": "execute_result"
    }
   ],
   "source": [
    "data = data[(data['children'] != -1) & (data['children'] != 20)]\n",
    "data['children'].unique()"
   ]
  },
  {
   "cell_type": "markdown",
   "id": "f4ea573f",
   "metadata": {
    "deletable": false,
    "id": "f4ea573f",
    "pycharm": {
     "name": "#%% md\n"
    }
   },
   "source": [
    "Заполним пропуски в столбце `days_employed` медианными значениями по каждого типа занятости `income_type`."
   ]
  },
  {
   "cell_type": "code",
   "execution_count": 9,
   "id": "af6b1a7e",
   "metadata": {
    "deletable": false,
    "id": "af6b1a7e",
    "pycharm": {
     "name": "#%%\n"
    }
   },
   "outputs": [],
   "source": [
    "for t in data['income_type'].unique():\n",
    "    data.loc[(data['income_type'] == t) & (data['days_employed'].isna()), 'days_employed'] = \\\n",
    "    data.loc[(data['income_type'] == t), 'days_employed'].median()"
   ]
  },
  {
   "cell_type": "code",
   "execution_count": 10,
   "id": "55f78bc2",
   "metadata": {
    "deletable": false,
    "id": "55f78bc2",
    "outputId": "8da1e4e1-358e-4e87-98c9-f261bce0a7b2",
    "pycharm": {
     "name": "#%%\n"
    }
   },
   "outputs": [
    {
     "data": {
      "text/plain": "children            0\ndays_employed       0\ndob_years           0\neducation           0\neducation_id        0\nfamily_status       0\nfamily_status_id    0\ngender              0\nincome_type         0\ndebt                0\ntotal_income        0\npurpose             0\ndtype: int64"
     },
     "execution_count": 10,
     "metadata": {},
     "output_type": "execute_result"
    }
   ],
   "source": [
    "data.isna().sum()"
   ]
  },
  {
   "cell_type": "markdown",
   "id": "42d19d24",
   "metadata": {
    "deletable": false,
    "id": "42d19d24",
    "pycharm": {
     "name": "#%% md\n"
    }
   },
   "source": [
    "Заменим вещественный тип данных"
   ]
  },
  {
   "cell_type": "code",
   "execution_count": 11,
   "id": "920b65ad",
   "metadata": {
    "deletable": false,
    "id": "920b65ad",
    "pycharm": {
     "name": "#%%\n"
    }
   },
   "outputs": [],
   "source": [
    "data['total_income'] = data['total_income'].astype(int)"
   ]
  },
  {
   "cell_type": "markdown",
   "id": "80c420ba",
   "metadata": {
    "deletable": false,
    "id": "80c420ba",
    "pycharm": {
     "name": "#%% md\n"
    }
   },
   "source": [
    "### Обработка дубликатов"
   ]
  },
  {
   "cell_type": "code",
   "execution_count": 12,
   "id": "3ee445e4",
   "metadata": {
    "deletable": false,
    "id": "3ee445e4",
    "outputId": "9684deba-1934-42d1-99e1-cda61740f822",
    "pycharm": {
     "name": "#%%\n"
    }
   },
   "outputs": [
    {
     "data": {
      "text/plain": "54"
     },
     "execution_count": 12,
     "metadata": {},
     "output_type": "execute_result"
    }
   ],
   "source": [
    "data.duplicated().sum()"
   ]
  },
  {
   "cell_type": "code",
   "execution_count": 13,
   "id": "8575fe05",
   "metadata": {
    "deletable": false,
    "id": "8575fe05",
    "pycharm": {
     "name": "#%%\n"
    }
   },
   "outputs": [],
   "source": [
    "data = data.drop_duplicates()"
   ]
  },
  {
   "cell_type": "code",
   "execution_count": 14,
   "id": "a9f8e2bf",
   "metadata": {
    "deletable": false,
    "id": "a9f8e2bf",
    "pycharm": {
     "name": "#%%\n"
    }
   },
   "outputs": [],
   "source": [
    "data['education'] = data['education'].str.lower()"
   ]
  },
  {
   "cell_type": "markdown",
   "id": "9904cf55",
   "metadata": {
    "deletable": false,
    "id": "9904cf55",
    "pycharm": {
     "name": "#%% md\n"
    }
   },
   "source": [
    "### Категоризация данных"
   ]
  },
  {
   "cell_type": "markdown",
   "id": "72fcc8a2",
   "metadata": {
    "deletable": false,
    "id": "72fcc8a2",
    "pycharm": {
     "name": "#%% md\n"
    }
   },
   "source": [
    "На основании диапазонов, указанных ниже, создадим в датафрейме `data` столбец `total_income_category` с категориями:**\n",
    "\n",
    "- 0–30000 — `'E'`;\n",
    "- 30001–50000 — `'D'`;\n",
    "- 50001–200000 — `'C'`;\n",
    "- 200001–1000000 — `'B'`;\n",
    "- 1000001 и выше — `'A'`.\n"
   ]
  },
  {
   "cell_type": "code",
   "execution_count": 15,
   "id": "e1771346",
   "metadata": {
    "deletable": false,
    "id": "e1771346",
    "pycharm": {
     "name": "#%%\n"
    }
   },
   "outputs": [],
   "source": [
    "def categorize_income(income):\n",
    "    try:\n",
    "        if 0 <= income <= 30000:\n",
    "            return 'E'\n",
    "        elif 30001 <= income <= 50000:\n",
    "            return 'D'\n",
    "        elif 50001 <= income <= 200000:\n",
    "            return 'C'\n",
    "        elif 200001 <= income <= 1000000:\n",
    "            return 'B'\n",
    "        elif income >= 1000001:\n",
    "            return 'A'\n",
    "    except:\n",
    "        pass"
   ]
  },
  {
   "cell_type": "code",
   "execution_count": 16,
   "id": "d5f3586d",
   "metadata": {
    "deletable": false,
    "id": "d5f3586d",
    "pycharm": {
     "name": "#%%\n"
    }
   },
   "outputs": [],
   "source": [
    "data['total_income_category'] = data['total_income'].apply(categorize_income)"
   ]
  },
  {
   "cell_type": "code",
   "execution_count": 17,
   "id": "f67ce9b3",
   "metadata": {
    "deletable": false,
    "id": "f67ce9b3",
    "outputId": "673c12d9-7d7e-4ae0-9812-c622c89dd244",
    "pycharm": {
     "name": "#%%\n"
    }
   },
   "outputs": [
    {
     "data": {
      "text/plain": "array(['покупка жилья', 'приобретение автомобиля',\n       'дополнительное образование', 'сыграть свадьбу',\n       'операции с жильем', 'образование', 'на проведение свадьбы',\n       'покупка жилья для семьи', 'покупка недвижимости',\n       'покупка коммерческой недвижимости', 'покупка жилой недвижимости',\n       'строительство собственной недвижимости', 'недвижимость',\n       'строительство недвижимости', 'на покупку подержанного автомобиля',\n       'на покупку своего автомобиля',\n       'операции с коммерческой недвижимостью',\n       'строительство жилой недвижимости', 'жилье',\n       'операции со своей недвижимостью', 'автомобили',\n       'заняться образованием', 'сделка с подержанным автомобилем',\n       'получение образования', 'автомобиль', 'свадьба',\n       'получение дополнительного образования', 'покупка своего жилья',\n       'операции с недвижимостью', 'получение высшего образования',\n       'свой автомобиль', 'сделка с автомобилем',\n       'профильное образование', 'высшее образование',\n       'покупка жилья для сдачи', 'на покупку автомобиля', 'ремонт жилью',\n       'заняться высшим образованием'], dtype=object)"
     },
     "execution_count": 17,
     "metadata": {},
     "output_type": "execute_result"
    }
   ],
   "source": [
    "data['purpose'].unique()"
   ]
  },
  {
   "cell_type": "markdown",
   "id": "85d0aef0",
   "metadata": {
    "deletable": false,
    "id": "85d0aef0",
    "pycharm": {
     "name": "#%% md\n"
    }
   },
   "source": [
    "Создадим функцию, которая на основании данных из столбца `purpose` сформирует новый столбец `purpose_category`, в который войдут следующие категории:**\n",
    "\n",
    "- `'операции с автомобилем'`,\n",
    "- `'операции с недвижимостью'`,\n",
    "- `'проведение свадьбы'`,\n",
    "- `'получение образования'`.\n"
   ]
  },
  {
   "cell_type": "code",
   "execution_count": 18,
   "id": "e149fab4",
   "metadata": {
    "deletable": false,
    "id": "e149fab4",
    "pycharm": {
     "name": "#%%\n"
    }
   },
   "outputs": [],
   "source": [
    "def categorize_purpose(row):\n",
    "    try:\n",
    "        if 'автом' in row:\n",
    "            return 'операции с автомобилем'\n",
    "        elif 'жил' in row or 'недвиж' in row:\n",
    "            return 'операции с недвижимостью'\n",
    "        elif 'свад' in row:\n",
    "            return 'проведение свадьбы'\n",
    "        elif 'образов' in row:\n",
    "            return 'получение образования'\n",
    "    except:\n",
    "        return 'нет категории'"
   ]
  },
  {
   "cell_type": "code",
   "execution_count": 19,
   "id": "bf36e69b",
   "metadata": {
    "deletable": false,
    "id": "bf36e69b",
    "pycharm": {
     "name": "#%%\n"
    }
   },
   "outputs": [],
   "source": [
    "data['purpose_category'] = data['purpose'].apply(categorize_purpose)"
   ]
  },
  {
   "cell_type": "markdown",
   "id": "09b242bf",
   "metadata": {
    "deletable": false,
    "editable": false,
    "id": "09b242bf",
    "pycharm": {
     "name": "#%% md\n"
    }
   },
   "source": [
    "## Исследуем данные"
   ]
  },
  {
   "cell_type": "markdown",
   "id": "c5d66278",
   "metadata": {
    "deletable": false,
    "editable": false,
    "id": "c5d66278",
    "pycharm": {
     "name": "#%% md\n"
    }
   },
   "source": [
    "Есть ли зависимость между количеством детей и возвратом кредита в срок?"
   ]
  },
  {
   "cell_type": "code",
   "execution_count": 20,
   "id": "2cacfc4a",
   "metadata": {
    "id": "2cacfc4a",
    "pycharm": {
     "name": "#%%\n"
    }
   },
   "outputs": [
    {
     "data": {
      "text/plain": "array([0, 1])"
     },
     "metadata": {},
     "output_type": "display_data"
    }
   ],
   "source": [
    "#импортируем библиотеку seaborn для построения графиков\n",
    "import seaborn\n",
    "#проверим, какие значения содержит в себе столбец debt\n",
    "display(data['debt'].unique())"
   ]
  },
  {
   "cell_type": "code",
   "execution_count": 21,
   "id": "4cfc6dd7",
   "metadata": {
    "pycharm": {
     "name": "#%%\n"
    }
   },
   "outputs": [
    {
     "data": {
      "text/plain": "children\n0    13.270931\n1    10.831081\n2    10.577320\n3    12.222222\n4    10.250000\n5          NaN\nName: debt, dtype: float64"
     },
     "metadata": {},
     "output_type": "display_data"
    }
   ],
   "source": [
    "#посчитаем соотношение всех кредитованных к должникам, сгрупированное по количеству детей\n",
    "try:\n",
    "    display(data.groupby('children')['debt'].count()/data[data['debt'] == 1].groupby('children')['debt'].count())\n",
    "except:\n",
    "    print('Error')"
   ]
  },
  {
   "cell_type": "markdown",
   "id": "ef454760",
   "metadata": {
    "pycharm": {
     "name": "#%% md\n"
    }
   },
   "source": [
    "### Получим сводную таблицу\n",
    "\n",
    "Сведем в таблицу данные о людях взявших кредит, должниках, их соотношении и процент должников от общего количества кредитованных, на основе количества детей."
   ]
  },
  {
   "cell_type": "code",
   "execution_count": 22,
   "id": "8c16fb37",
   "metadata": {
    "pycharm": {
     "name": "#%%\n"
    }
   },
   "outputs": [
    {
     "data": {
      "text/plain": "          Количество взявших кредит  Должники  Соотношение должников  \\\nchildren                                                               \n0                             14107      1063                  0.075   \n1                              4809       444                  0.092   \n2                              2052       194                  0.095   \n3                               330        27                  0.082   \n4                                41         4                  0.098   \n5                                 9         0                  0.000   \n\n          Процент должников  \nchildren                     \n0                       7.5  \n1                       9.2  \n2                       9.5  \n3                       8.2  \n4                       9.8  \n5                       0.0  ",
      "text/html": "<div>\n<style scoped>\n    .dataframe tbody tr th:only-of-type {\n        vertical-align: middle;\n    }\n\n    .dataframe tbody tr th {\n        vertical-align: top;\n    }\n\n    .dataframe thead th {\n        text-align: right;\n    }\n</style>\n<table border=\"1\" class=\"dataframe\">\n  <thead>\n    <tr style=\"text-align: right;\">\n      <th></th>\n      <th>Количество взявших кредит</th>\n      <th>Должники</th>\n      <th>Соотношение должников</th>\n      <th>Процент должников</th>\n    </tr>\n    <tr>\n      <th>children</th>\n      <th></th>\n      <th></th>\n      <th></th>\n      <th></th>\n    </tr>\n  </thead>\n  <tbody>\n    <tr>\n      <th>0</th>\n      <td>14107</td>\n      <td>1063</td>\n      <td>0.075</td>\n      <td>7.5</td>\n    </tr>\n    <tr>\n      <th>1</th>\n      <td>4809</td>\n      <td>444</td>\n      <td>0.092</td>\n      <td>9.2</td>\n    </tr>\n    <tr>\n      <th>2</th>\n      <td>2052</td>\n      <td>194</td>\n      <td>0.095</td>\n      <td>9.5</td>\n    </tr>\n    <tr>\n      <th>3</th>\n      <td>330</td>\n      <td>27</td>\n      <td>0.082</td>\n      <td>8.2</td>\n    </tr>\n    <tr>\n      <th>4</th>\n      <td>41</td>\n      <td>4</td>\n      <td>0.098</td>\n      <td>9.8</td>\n    </tr>\n    <tr>\n      <th>5</th>\n      <td>9</td>\n      <td>0</td>\n      <td>0.000</td>\n      <td>0.0</td>\n    </tr>\n  </tbody>\n</table>\n</div>"
     },
     "metadata": {},
     "output_type": "display_data"
    }
   ],
   "source": [
    "children_grouped = data.groupby('children')[['debt']].count()\n",
    "children_grouped['debt_sum'] = data.groupby('children')['debt'].sum()\n",
    "try:\n",
    "    children_grouped['debt_ratio'] = round(children_grouped['debt_sum']/children_grouped['debt'],3)\n",
    "    children_grouped['debt_percent'] = round(children_grouped['debt_ratio']*100,3)\n",
    "except:\n",
    "    children_grouped['debt_ratio'] = 'NaN'\n",
    "\n",
    "children_grouped = children_grouped.rename(\n",
    "columns={\n",
    "'debt': 'Количество взявших кредит',\n",
    "'debt_sum': 'Должники',\n",
    "'debt_ratio': 'Соотношение должников',\n",
    "'debt_percent': 'Процент должников'}\n",
    ")\n",
    "\n",
    "display(children_grouped)"
   ]
  },
  {
   "cell_type": "markdown",
   "id": "6bec9696",
   "metadata": {
    "pycharm": {
     "name": "#%% md\n"
    }
   },
   "source": [
    "### График процента должников в зависимости от количества детей"
   ]
  },
  {
   "cell_type": "code",
   "execution_count": 23,
   "id": "00e375e0",
   "metadata": {
    "pycharm": {
     "name": "#%%\n"
    }
   },
   "outputs": [
    {
     "data": {
      "text/plain": "<AxesSubplot:ylabel='Процент должников'>"
     },
     "execution_count": 23,
     "metadata": {},
     "output_type": "execute_result"
    },
    {
     "data": {
      "text/plain": "<Figure size 432x288 with 1 Axes>",
      "image/png": "[encoded data removed]"
     },
     "metadata": {},
     "output_type": "display_data"
    }
   ],
   "source": [
    "seaborn.barplot(x = [0,1,2,3,4,5], y = children_grouped['Процент должников'])"
   ]
  },
  {
   "cell_type": "markdown",
   "id": "3a6b99ec",
   "metadata": {
    "deletable": false,
    "id": "3a6b99ec",
    "pycharm": {
     "name": "#%% md\n"
    }
   },
   "source": [
    "**Вывод:** Проанализировав данные, можно заметить что семьи с пятью детьми не имеют ни одной задолженности, но это нерепрезентативная выборка, так как в датасете указаны кредиты всего 9 семей с пятью детьми. Больше всего, в процентном соотношении, не выплачивают вовремя семьи с 4 детьми. По графику видно, что семьи без детей чаще выплачивают кредит вовремя, нежели семьи с детьми, и, существует небольшая корреляция между количеством детей и невыплатами кредита в срок, но не уверен, можно ли назвать ее зависимостью."
   ]
  },
  {
   "cell_type": "markdown",
   "id": "97be82ca",
   "metadata": {
    "deletable": false,
    "editable": false,
    "id": "97be82ca",
    "pycharm": {
     "name": "#%% md\n"
    }
   },
   "source": [
    "Есть ли зависимость между семейным положением и возвратом кредита в срок?"
   ]
  },
  {
   "cell_type": "markdown",
   "id": "cfbd8f60",
   "metadata": {
    "id": "dc3f7ee8",
    "pycharm": {
     "name": "#%% md\n"
    }
   },
   "source": [
    "### Получим сводную таблицу \n",
    "Отразим в таблице количество кредитованных, количество должников, а также их соотношение и процент, сгрупированные по семейному положению"
   ]
  },
  {
   "cell_type": "code",
   "execution_count": 24,
   "id": "ec603341",
   "metadata": {
    "pycharm": {
     "name": "#%%\n"
    }
   },
   "outputs": [
    {
     "data": {
      "text/plain": "                       Количество взявших кредит  Должники  \\\nfamily_status                                                \nвдовец / вдова                               951        63   \nв разводе                                   1189        84   \nженат / замужем                            12266       927   \nгражданский брак                            4146       385   \nНе женат / не замужем                       2796       273   \n\n                       Соотношение должников  Процент должников  \nfamily_status                                                    \nвдовец / вдова                         0.066                6.6  \nв разводе                              0.071                7.1  \nженат / замужем                        0.076                7.6  \nгражданский брак                       0.093                9.3  \nНе женат / не замужем                  0.098                9.8  ",
      "text/html": "<div>\n<style scoped>\n    .dataframe tbody tr th:only-of-type {\n        vertical-align: middle;\n    }\n\n    .dataframe tbody tr th {\n        vertical-align: top;\n    }\n\n    .dataframe thead th {\n        text-align: right;\n    }\n</style>\n<table border=\"1\" class=\"dataframe\">\n  <thead>\n    <tr style=\"text-align: right;\">\n      <th></th>\n      <th>Количество взявших кредит</th>\n      <th>Должники</th>\n      <th>Соотношение должников</th>\n      <th>Процент должников</th>\n    </tr>\n    <tr>\n      <th>family_status</th>\n      <th></th>\n      <th></th>\n      <th></th>\n      <th></th>\n    </tr>\n  </thead>\n  <tbody>\n    <tr>\n      <th>вдовец / вдова</th>\n      <td>951</td>\n      <td>63</td>\n      <td>0.066</td>\n      <td>6.6</td>\n    </tr>\n    <tr>\n      <th>в разводе</th>\n      <td>1189</td>\n      <td>84</td>\n      <td>0.071</td>\n      <td>7.1</td>\n    </tr>\n    <tr>\n      <th>женат / замужем</th>\n      <td>12266</td>\n      <td>927</td>\n      <td>0.076</td>\n      <td>7.6</td>\n    </tr>\n    <tr>\n      <th>гражданский брак</th>\n      <td>4146</td>\n      <td>385</td>\n      <td>0.093</td>\n      <td>9.3</td>\n    </tr>\n    <tr>\n      <th>Не женат / не замужем</th>\n      <td>2796</td>\n      <td>273</td>\n      <td>0.098</td>\n      <td>9.8</td>\n    </tr>\n  </tbody>\n</table>\n</div>"
     },
     "metadata": {},
     "output_type": "display_data"
    }
   ],
   "source": [
    "family_status_grouped = data.groupby('family_status')[['debt']].count()\n",
    "family_status_grouped['Должники'] = data.groupby('family_status')['debt'].sum()\n",
    "try:\n",
    "    family_status_grouped['Соотношение должников'] = round(family_status_grouped['Должники']/family_status_grouped['debt'],3)\n",
    "    family_status_grouped['Процент должников'] = round(family_status_grouped['Соотношение должников']*100,3)\n",
    "except:\n",
    "    family_status_grouped['Соотношение должников'] = 'NaN'\n",
    "    \n",
    "family_status_grouped = family_status_grouped.rename(\n",
    "columns={\n",
    "'debt': 'Количество взявших кредит'}\n",
    ")\n",
    "\n",
    "family_status_sorted = family_status_grouped.sort_values(by='Процент должников')\n",
    "\n",
    "\n",
    "display(family_status_sorted)"
   ]
  },
  {
   "cell_type": "markdown",
   "id": "1cef7837",
   "metadata": {
    "deletable": false,
    "id": "1cef7837",
    "pycharm": {
     "name": "#%% md\n"
    }
   },
   "source": [
    "**Вывод:** Из таблицы можно вынести зависимость: чем меньше человек связан (или был связан) семейными отношениями, тем больше вероятность появления задолженности по кредиту. Таким образом можно сказать, что есть зависимость семейного положения человека и его платежеспособностью по кредиту."
   ]
  },
  {
   "cell_type": "markdown",
   "id": "1e8b2fca",
   "metadata": {
    "deletable": false,
    "editable": false,
    "id": "1e8b2fca",
    "pycharm": {
     "name": "#%% md\n"
    }
   },
   "source": [
    "Есть ли зависимость между уровнем дохода и возвратом кредита в срок?"
   ]
  },
  {
   "cell_type": "markdown",
   "id": "886fd7d2",
   "metadata": {
    "id": "cd7e3720",
    "pycharm": {
     "name": "#%% md\n"
    }
   },
   "source": [
    "### Получим сводную таблицу \n",
    "Отразим в таблице количество кредитованных, количество должников, а также их соотношение и процент, сгрупированные по уровню дохода"
   ]
  },
  {
   "cell_type": "code",
   "execution_count": 25,
   "id": "ab15bcb0",
   "metadata": {
    "pycharm": {
     "name": "#%%\n"
    }
   },
   "outputs": [
    {
     "data": {
      "text/plain": "                       Количество взявших кредит  Должники  \\\ntotal_income_category                                        \nA                                             25         2   \nB                                           5014       354   \nC                                          15938      1353   \nD                                            349        21   \nE                                             22         2   \n\n                       Соотношение должников  Процент должников  \ntotal_income_category                                            \nA                                      0.080                8.0  \nB                                      0.071                7.1  \nC                                      0.085                8.5  \nD                                      0.060                6.0  \nE                                      0.091                9.1  ",
      "text/html": "<div>\n<style scoped>\n    .dataframe tbody tr th:only-of-type {\n        vertical-align: middle;\n    }\n\n    .dataframe tbody tr th {\n        vertical-align: top;\n    }\n\n    .dataframe thead th {\n        text-align: right;\n    }\n</style>\n<table border=\"1\" class=\"dataframe\">\n  <thead>\n    <tr style=\"text-align: right;\">\n      <th></th>\n      <th>Количество взявших кредит</th>\n      <th>Должники</th>\n      <th>Соотношение должников</th>\n      <th>Процент должников</th>\n    </tr>\n    <tr>\n      <th>total_income_category</th>\n      <th></th>\n      <th></th>\n      <th></th>\n      <th></th>\n    </tr>\n  </thead>\n  <tbody>\n    <tr>\n      <th>A</th>\n      <td>25</td>\n      <td>2</td>\n      <td>0.080</td>\n      <td>8.0</td>\n    </tr>\n    <tr>\n      <th>B</th>\n      <td>5014</td>\n      <td>354</td>\n      <td>0.071</td>\n      <td>7.1</td>\n    </tr>\n    <tr>\n      <th>C</th>\n      <td>15938</td>\n      <td>1353</td>\n      <td>0.085</td>\n      <td>8.5</td>\n    </tr>\n    <tr>\n      <th>D</th>\n      <td>349</td>\n      <td>21</td>\n      <td>0.060</td>\n      <td>6.0</td>\n    </tr>\n    <tr>\n      <th>E</th>\n      <td>22</td>\n      <td>2</td>\n      <td>0.091</td>\n      <td>9.1</td>\n    </tr>\n  </tbody>\n</table>\n</div>"
     },
     "metadata": {},
     "output_type": "display_data"
    }
   ],
   "source": [
    "total_income_grouped = data.groupby('total_income_category')[['debt']].count()\n",
    "total_income_grouped['Должники'] = data.groupby('total_income_category')['debt'].sum()\n",
    "try:\n",
    "    total_income_grouped['Соотношение должников'] = round(total_income_grouped['Должники']/total_income_grouped['debt'],3)\n",
    "    total_income_grouped['Процент должников'] = round(total_income_grouped['Соотношение должников']*100,3)\n",
    "except:\n",
    "    total_income_grouped['Соотношение должников'] = 'NaN'\n",
    "    \n",
    "total_income_grouped = total_income_grouped.rename(\n",
    "columns={\n",
    "'debt': 'Количество взявших кредит'}\n",
    ")\n",
    "\n",
    "display(total_income_grouped)"
   ]
  },
  {
   "cell_type": "markdown",
   "id": "7eac836a",
   "metadata": {
    "pycharm": {
     "name": "#%% md\n"
    }
   },
   "source": [
    "### График процента должников в завсисмости от уровня дохода"
   ]
  },
  {
   "cell_type": "code",
   "execution_count": 26,
   "id": "218f9cf0",
   "metadata": {
    "pycharm": {
     "name": "#%%\n"
    }
   },
   "outputs": [
    {
     "data": {
      "text/plain": "<AxesSubplot:ylabel='Процент должников'>"
     },
     "execution_count": 26,
     "metadata": {},
     "output_type": "execute_result"
    },
    {
     "data": {
      "text/plain": "<Figure size 432x288 with 1 Axes>",
      "image/png": "[encoded data removed]"
     },
     "metadata": {},
     "output_type": "display_data"
    }
   ],
   "source": [
    "seaborn.barplot(x = ['A','B','C','D','E'], y = total_income_grouped['Процент должников'])"
   ]
  },
  {
   "cell_type": "markdown",
   "id": "e8593def",
   "metadata": {
    "deletable": false,
    "id": "e8593def",
    "pycharm": {
     "name": "#%% md\n"
    }
   },
   "source": [
    "**Вывод:** Между уровнем дохода и возвратом кредита в срок прямой зависимости нет. Анализируя данные можно убрать из внимания уровни дохода А и Е, так как данных достаточно мало для полной картины, при этом получаем, что самыми некредитоспособными получаются люди с доходом от 50 до 200 тысяч, а самыми кредитоспособными с доходом 30-50 тысяч."
   ]
  },
  {
   "cell_type": "markdown",
   "id": "99ecbd1f",
   "metadata": {
    "deletable": false,
    "editable": false,
    "id": "99ecbd1f",
    "pycharm": {
     "name": "#%% md\n"
    }
   },
   "source": [
    "Как разные цели кредита влияют на его возврат в срок?"
   ]
  },
  {
   "cell_type": "markdown",
   "id": "9a22ac91",
   "metadata": {
    "id": "2b687290",
    "pycharm": {
     "name": "#%% md\n"
    }
   },
   "source": [
    "### Получим сводную таблицу \n",
    "Отразим в таблице количество кредитованных, количество должников, а также их соотношение и процент, сгрупированные по цели кредита"
   ]
  },
  {
   "cell_type": "code",
   "execution_count": 27,
   "id": "10a6c8f0",
   "metadata": {
    "pycharm": {
     "name": "#%%\n"
    }
   },
   "outputs": [
    {
     "data": {
      "text/plain": "                          Количество взявших кредит  Должники  \\\npurpose_category                                                \nоперации с недвижимостью                      10754       780   \nпроведение свадьбы                             2324       183   \nполучение образования                          3989       369   \nоперации с автомобилем                         4281       400   \n\n                          Соотношение должников  Процент должников  \npurpose_category                                                    \nоперации с недвижимостью                 0.0725               7.25  \nпроведение свадьбы                       0.0787               7.87  \nполучение образования                    0.0925               9.25  \nоперации с автомобилем                   0.0934               9.34  ",
      "text/html": "<div>\n<style scoped>\n    .dataframe tbody tr th:only-of-type {\n        vertical-align: middle;\n    }\n\n    .dataframe tbody tr th {\n        vertical-align: top;\n    }\n\n    .dataframe thead th {\n        text-align: right;\n    }\n</style>\n<table border=\"1\" class=\"dataframe\">\n  <thead>\n    <tr style=\"text-align: right;\">\n      <th></th>\n      <th>Количество взявших кредит</th>\n      <th>Должники</th>\n      <th>Соотношение должников</th>\n      <th>Процент должников</th>\n    </tr>\n    <tr>\n      <th>purpose_category</th>\n      <th></th>\n      <th></th>\n      <th></th>\n      <th></th>\n    </tr>\n  </thead>\n  <tbody>\n    <tr>\n      <th>операции с недвижимостью</th>\n      <td>10754</td>\n      <td>780</td>\n      <td>0.0725</td>\n      <td>7.25</td>\n    </tr>\n    <tr>\n      <th>проведение свадьбы</th>\n      <td>2324</td>\n      <td>183</td>\n      <td>0.0787</td>\n      <td>7.87</td>\n    </tr>\n    <tr>\n      <th>получение образования</th>\n      <td>3989</td>\n      <td>369</td>\n      <td>0.0925</td>\n      <td>9.25</td>\n    </tr>\n    <tr>\n      <th>операции с автомобилем</th>\n      <td>4281</td>\n      <td>400</td>\n      <td>0.0934</td>\n      <td>9.34</td>\n    </tr>\n  </tbody>\n</table>\n</div>"
     },
     "metadata": {},
     "output_type": "display_data"
    }
   ],
   "source": [
    "purpose_category_grouped = data.groupby('purpose_category')[['debt']].count()\n",
    "purpose_category_grouped['Должники'] = data.groupby('purpose_category')['debt'].sum()\n",
    "try:\n",
    "    purpose_category_grouped['Соотношение должников'] = round(purpose_category_grouped['Должники']/purpose_category_grouped['debt'],4)\n",
    "    purpose_category_grouped['Процент должников'] = round(purpose_category_grouped['Соотношение должников']*100,4)\n",
    "except:\n",
    "    purpose_category_grouped['Соотношение должников'] = 'NaN'\n",
    "    \n",
    "purpose_category_grouped = purpose_category_grouped.rename(\n",
    "columns={\n",
    "'debt': 'Количество взявших кредит'}\n",
    ")\n",
    "\n",
    "purpose_category_grouped = purpose_category_grouped.sort_values(by='Процент должников')\n",
    "\n",
    "\n",
    "display(purpose_category_grouped)"
   ]
  },
  {
   "cell_type": "markdown",
   "id": "b4bb2ce6",
   "metadata": {
    "deletable": false,
    "id": "b4bb2ce6",
    "pycharm": {
     "name": "#%% md\n"
    }
   },
   "source": [
    "**Вывод:** Полагаясь на таблицу, можно сказать, что чаще всего, возникают трудности с возвратом автокредита и кредита на образование, более надежные люди те, кто берут кредит на операции с недвижимостью, или же на проведение свадьбы."
   ]
  },
  {
   "cell_type": "markdown",
   "id": "6db5255a",
   "metadata": {
    "deletable": false,
    "editable": false,
    "id": "6db5255a",
    "pycharm": {
     "name": "#%% md\n"
    }
   },
   "source": [
    "## Общий вывод."
   ]
  },
  {
   "cell_type": "markdown",
   "id": "bad65432",
   "metadata": {
    "id": "bad65432",
    "pycharm": {
     "name": "#%% md\n"
    }
   },
   "source": [
    "В данном исследовании был обработан датасет клиентов банка для модели скоринга, с целью понять: влияет ли семейное положение и количество детей клиента на способность вернуть кредит в срок? Исходя из полученных выше результатов анализа можно получить, что семейное положение и количество детей клиента действительно влияет на платежеспособность заемщика. Так, самый кредитоспособный клиент, согласно статистике будет вдовец / вдова без детей.\n",
    "На основе данного исследования можно выделить портреты самого желательного, а также нежелательного клиентов:\n",
    " - Самым желательным клиентом будет Вдовец/вдова без детей с доходом от 30 до 50 тысяч который(ая) хочет взять кредит на операции с недвижимостью.\n",
    " - Самым нежелательным клиентом будет человек не женатый/не замужем с четырьмя детьми с доходом до 30 тысяч, который(ая) хочет взять кредит на операции с автомобилем"
   ]
  },
  {
   "cell_type": "code",
   "execution_count": 27,
   "outputs": [],
   "source": [],
   "metadata": {
    "collapsed": false,
    "pycharm": {
     "name": "#%%\n"
    }
   }
  }
 ],
 "metadata": {
  "ExecuteTimeLog": [
   {
    "duration": 635,
    "start_time": "2022-08-07T10:43:21.608Z"
   },
   {
    "duration": 24,
    "start_time": "2022-08-07T10:43:23.618Z"
   },
   {
    "duration": 17,
    "start_time": "2022-08-07T10:43:25.415Z"
   },
   {
    "duration": 11,
    "start_time": "2022-08-07T10:43:27.217Z"
   },
   {
    "duration": 38,
    "start_time": "2022-08-07T10:43:28.004Z"
   },
   {
    "duration": 4,
    "start_time": "2022-08-07T10:43:29.195Z"
   },
   {
    "duration": 9,
    "start_time": "2022-08-07T10:43:30.069Z"
   },
   {
    "duration": 5,
    "start_time": "2022-08-07T10:43:31.643Z"
   },
   {
    "duration": 7,
    "start_time": "2022-08-07T10:43:32.524Z"
   },
   {
    "duration": 5,
    "start_time": "2022-08-07T10:43:33.494Z"
   },
   {
    "duration": 38,
    "start_time": "2022-08-07T10:43:34.879Z"
   },
   {
    "duration": 12,
    "start_time": "2022-08-07T10:43:37.051Z"
   },
   {
    "duration": 4,
    "start_time": "2022-08-07T10:43:38.488Z"
   },
   {
    "duration": 23,
    "start_time": "2022-08-07T10:43:40.179Z"
   },
   {
    "duration": 20,
    "start_time": "2022-08-07T10:43:40.569Z"
   },
   {
    "duration": 14,
    "start_time": "2022-08-07T10:43:41.456Z"
   },
   {
    "duration": 4,
    "start_time": "2022-08-07T10:43:42.816Z"
   },
   {
    "duration": 12,
    "start_time": "2022-08-07T10:43:43.893Z"
   },
   {
    "duration": 7,
    "start_time": "2022-08-07T10:43:48.652Z"
   },
   {
    "duration": 4,
    "start_time": "2022-08-07T10:43:52.890Z"
   },
   {
    "duration": 10,
    "start_time": "2022-08-07T10:43:54.524Z"
   },
   {
    "duration": 1001,
    "start_time": "2022-08-07T10:44:18.782Z"
   },
   {
    "duration": 5,
    "start_time": "2022-08-07T10:44:27.522Z"
   },
   {
    "duration": 6,
    "start_time": "2022-08-07T10:44:53.120Z"
   },
   {
    "duration": 16,
    "start_time": "2022-08-07T10:45:39.860Z"
   },
   {
    "duration": 17,
    "start_time": "2022-08-07T10:46:38.534Z"
   },
   {
    "duration": 147,
    "start_time": "2022-08-07T10:47:32.389Z"
   },
   {
    "duration": 30,
    "start_time": "2022-08-07T10:50:32.275Z"
   },
   {
    "duration": 21,
    "start_time": "2022-08-07T10:51:29.981Z"
   },
   {
    "duration": 124,
    "start_time": "2022-08-07T10:52:20.339Z"
   },
   {
    "duration": 22,
    "start_time": "2022-08-07T10:53:05.729Z"
   }
  ],
  "celltoolbar": "Edit Metadata",
  "colab": {
   "name": "dpp_template_part2.ipynb",
   "provenance": []
  },
  "kernelspec": {
   "display_name": "Python 3 (ipykernel)",
   "language": "python",
   "name": "python3"
  },
  "language_info": {
   "codemirror_mode": {
    "name": "ipython",
    "version": 3
   },
   "file_extension": ".py",
   "mimetype": "text/x-python",
   "name": "python",
   "nbconvert_exporter": "python",
   "pygments_lexer": "ipython3",
   "version": "3.9.5"
  },
  "toc": {
   "base_numbering": 1,
   "nav_menu": {},
   "number_sections": true,
   "sideBar": true,
   "skip_h1_title": true,
   "title_cell": "Table of Contents",
   "title_sidebar": "Contents",
   "toc_cell": false,
   "toc_position": {},
   "toc_section_display": true,
   "toc_window_display": false
  }
 },
 "nbformat": 4,
 "nbformat_minor": 5
}